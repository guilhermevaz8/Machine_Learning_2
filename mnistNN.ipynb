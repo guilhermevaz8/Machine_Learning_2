{
  "nbformat": 4,
  "nbformat_minor": 0,
  "metadata": {
    "colab": {
      "provenance": [],
      "authorship_tag": "ABX9TyOtLjIE5O8YQNPoqqdnWkNJ"
    },
    "kernelspec": {
      "name": "python3",
      "display_name": "Python 3"
    },
    "language_info": {
      "name": "python"
    },
    "widgets": {
      "application/vnd.jupyter.widget-state+json": {
        "db659e4359c443308a4392e61531524a": {
          "model_module": "@jupyter-widgets/controls",
          "model_name": "HBoxModel",
          "model_module_version": "1.5.0",
          "state": {
            "_dom_classes": [],
            "_model_module": "@jupyter-widgets/controls",
            "_model_module_version": "1.5.0",
            "_model_name": "HBoxModel",
            "_view_count": null,
            "_view_module": "@jupyter-widgets/controls",
            "_view_module_version": "1.5.0",
            "_view_name": "HBoxView",
            "box_style": "",
            "children": [
              "IPY_MODEL_604fe190e986492eb16b627dbd055e78",
              "IPY_MODEL_6bb3dca037bf4224b445fd343229104d",
              "IPY_MODEL_75dea32b0d5c4e43a556c1dc91ab442c"
            ],
            "layout": "IPY_MODEL_c2a7158a12424d5fbed5a08f19d382b2"
          }
        },
        "604fe190e986492eb16b627dbd055e78": {
          "model_module": "@jupyter-widgets/controls",
          "model_name": "HTMLModel",
          "model_module_version": "1.5.0",
          "state": {
            "_dom_classes": [],
            "_model_module": "@jupyter-widgets/controls",
            "_model_module_version": "1.5.0",
            "_model_name": "HTMLModel",
            "_view_count": null,
            "_view_module": "@jupyter-widgets/controls",
            "_view_module_version": "1.5.0",
            "_view_name": "HTMLView",
            "description": "",
            "description_tooltip": null,
            "layout": "IPY_MODEL_90dc1092f04349e7a3310c70d1241ed1",
            "placeholder": "​",
            "style": "IPY_MODEL_634ea96a2edb4183bde1d19b4d528de9",
            "value": "Dl Completed...: 100%"
          }
        },
        "6bb3dca037bf4224b445fd343229104d": {
          "model_module": "@jupyter-widgets/controls",
          "model_name": "FloatProgressModel",
          "model_module_version": "1.5.0",
          "state": {
            "_dom_classes": [],
            "_model_module": "@jupyter-widgets/controls",
            "_model_module_version": "1.5.0",
            "_model_name": "FloatProgressModel",
            "_view_count": null,
            "_view_module": "@jupyter-widgets/controls",
            "_view_module_version": "1.5.0",
            "_view_name": "ProgressView",
            "bar_style": "success",
            "description": "",
            "description_tooltip": null,
            "layout": "IPY_MODEL_ee45364fe40c4775a14056223710da2e",
            "max": 5,
            "min": 0,
            "orientation": "horizontal",
            "style": "IPY_MODEL_207a159217ae4b4495a10265ac1b85aa",
            "value": 5
          }
        },
        "75dea32b0d5c4e43a556c1dc91ab442c": {
          "model_module": "@jupyter-widgets/controls",
          "model_name": "HTMLModel",
          "model_module_version": "1.5.0",
          "state": {
            "_dom_classes": [],
            "_model_module": "@jupyter-widgets/controls",
            "_model_module_version": "1.5.0",
            "_model_name": "HTMLModel",
            "_view_count": null,
            "_view_module": "@jupyter-widgets/controls",
            "_view_module_version": "1.5.0",
            "_view_name": "HTMLView",
            "description": "",
            "description_tooltip": null,
            "layout": "IPY_MODEL_727d36fe05994779b4d8de5aa7ff30e6",
            "placeholder": "​",
            "style": "IPY_MODEL_a6828a6d3a48471cac71ee5e18a2829a",
            "value": " 5/5 [00:00&lt;00:00, 12.36 file/s]"
          }
        },
        "c2a7158a12424d5fbed5a08f19d382b2": {
          "model_module": "@jupyter-widgets/base",
          "model_name": "LayoutModel",
          "model_module_version": "1.2.0",
          "state": {
            "_model_module": "@jupyter-widgets/base",
            "_model_module_version": "1.2.0",
            "_model_name": "LayoutModel",
            "_view_count": null,
            "_view_module": "@jupyter-widgets/base",
            "_view_module_version": "1.2.0",
            "_view_name": "LayoutView",
            "align_content": null,
            "align_items": null,
            "align_self": null,
            "border": null,
            "bottom": null,
            "display": null,
            "flex": null,
            "flex_flow": null,
            "grid_area": null,
            "grid_auto_columns": null,
            "grid_auto_flow": null,
            "grid_auto_rows": null,
            "grid_column": null,
            "grid_gap": null,
            "grid_row": null,
            "grid_template_areas": null,
            "grid_template_columns": null,
            "grid_template_rows": null,
            "height": null,
            "justify_content": null,
            "justify_items": null,
            "left": null,
            "margin": null,
            "max_height": null,
            "max_width": null,
            "min_height": null,
            "min_width": null,
            "object_fit": null,
            "object_position": null,
            "order": null,
            "overflow": null,
            "overflow_x": null,
            "overflow_y": null,
            "padding": null,
            "right": null,
            "top": null,
            "visibility": null,
            "width": null
          }
        },
        "90dc1092f04349e7a3310c70d1241ed1": {
          "model_module": "@jupyter-widgets/base",
          "model_name": "LayoutModel",
          "model_module_version": "1.2.0",
          "state": {
            "_model_module": "@jupyter-widgets/base",
            "_model_module_version": "1.2.0",
            "_model_name": "LayoutModel",
            "_view_count": null,
            "_view_module": "@jupyter-widgets/base",
            "_view_module_version": "1.2.0",
            "_view_name": "LayoutView",
            "align_content": null,
            "align_items": null,
            "align_self": null,
            "border": null,
            "bottom": null,
            "display": null,
            "flex": null,
            "flex_flow": null,
            "grid_area": null,
            "grid_auto_columns": null,
            "grid_auto_flow": null,
            "grid_auto_rows": null,
            "grid_column": null,
            "grid_gap": null,
            "grid_row": null,
            "grid_template_areas": null,
            "grid_template_columns": null,
            "grid_template_rows": null,
            "height": null,
            "justify_content": null,
            "justify_items": null,
            "left": null,
            "margin": null,
            "max_height": null,
            "max_width": null,
            "min_height": null,
            "min_width": null,
            "object_fit": null,
            "object_position": null,
            "order": null,
            "overflow": null,
            "overflow_x": null,
            "overflow_y": null,
            "padding": null,
            "right": null,
            "top": null,
            "visibility": null,
            "width": null
          }
        },
        "634ea96a2edb4183bde1d19b4d528de9": {
          "model_module": "@jupyter-widgets/controls",
          "model_name": "DescriptionStyleModel",
          "model_module_version": "1.5.0",
          "state": {
            "_model_module": "@jupyter-widgets/controls",
            "_model_module_version": "1.5.0",
            "_model_name": "DescriptionStyleModel",
            "_view_count": null,
            "_view_module": "@jupyter-widgets/base",
            "_view_module_version": "1.2.0",
            "_view_name": "StyleView",
            "description_width": ""
          }
        },
        "ee45364fe40c4775a14056223710da2e": {
          "model_module": "@jupyter-widgets/base",
          "model_name": "LayoutModel",
          "model_module_version": "1.2.0",
          "state": {
            "_model_module": "@jupyter-widgets/base",
            "_model_module_version": "1.2.0",
            "_model_name": "LayoutModel",
            "_view_count": null,
            "_view_module": "@jupyter-widgets/base",
            "_view_module_version": "1.2.0",
            "_view_name": "LayoutView",
            "align_content": null,
            "align_items": null,
            "align_self": null,
            "border": null,
            "bottom": null,
            "display": null,
            "flex": null,
            "flex_flow": null,
            "grid_area": null,
            "grid_auto_columns": null,
            "grid_auto_flow": null,
            "grid_auto_rows": null,
            "grid_column": null,
            "grid_gap": null,
            "grid_row": null,
            "grid_template_areas": null,
            "grid_template_columns": null,
            "grid_template_rows": null,
            "height": null,
            "justify_content": null,
            "justify_items": null,
            "left": null,
            "margin": null,
            "max_height": null,
            "max_width": null,
            "min_height": null,
            "min_width": null,
            "object_fit": null,
            "object_position": null,
            "order": null,
            "overflow": null,
            "overflow_x": null,
            "overflow_y": null,
            "padding": null,
            "right": null,
            "top": null,
            "visibility": null,
            "width": null
          }
        },
        "207a159217ae4b4495a10265ac1b85aa": {
          "model_module": "@jupyter-widgets/controls",
          "model_name": "ProgressStyleModel",
          "model_module_version": "1.5.0",
          "state": {
            "_model_module": "@jupyter-widgets/controls",
            "_model_module_version": "1.5.0",
            "_model_name": "ProgressStyleModel",
            "_view_count": null,
            "_view_module": "@jupyter-widgets/base",
            "_view_module_version": "1.2.0",
            "_view_name": "StyleView",
            "bar_color": null,
            "description_width": ""
          }
        },
        "727d36fe05994779b4d8de5aa7ff30e6": {
          "model_module": "@jupyter-widgets/base",
          "model_name": "LayoutModel",
          "model_module_version": "1.2.0",
          "state": {
            "_model_module": "@jupyter-widgets/base",
            "_model_module_version": "1.2.0",
            "_model_name": "LayoutModel",
            "_view_count": null,
            "_view_module": "@jupyter-widgets/base",
            "_view_module_version": "1.2.0",
            "_view_name": "LayoutView",
            "align_content": null,
            "align_items": null,
            "align_self": null,
            "border": null,
            "bottom": null,
            "display": null,
            "flex": null,
            "flex_flow": null,
            "grid_area": null,
            "grid_auto_columns": null,
            "grid_auto_flow": null,
            "grid_auto_rows": null,
            "grid_column": null,
            "grid_gap": null,
            "grid_row": null,
            "grid_template_areas": null,
            "grid_template_columns": null,
            "grid_template_rows": null,
            "height": null,
            "justify_content": null,
            "justify_items": null,
            "left": null,
            "margin": null,
            "max_height": null,
            "max_width": null,
            "min_height": null,
            "min_width": null,
            "object_fit": null,
            "object_position": null,
            "order": null,
            "overflow": null,
            "overflow_x": null,
            "overflow_y": null,
            "padding": null,
            "right": null,
            "top": null,
            "visibility": null,
            "width": null
          }
        },
        "a6828a6d3a48471cac71ee5e18a2829a": {
          "model_module": "@jupyter-widgets/controls",
          "model_name": "DescriptionStyleModel",
          "model_module_version": "1.5.0",
          "state": {
            "_model_module": "@jupyter-widgets/controls",
            "_model_module_version": "1.5.0",
            "_model_name": "DescriptionStyleModel",
            "_view_count": null,
            "_view_module": "@jupyter-widgets/base",
            "_view_module_version": "1.2.0",
            "_view_name": "StyleView",
            "description_width": ""
          }
        }
      }
    }
  },
  "cells": [
    {
      "cell_type": "code",
      "execution_count": null,
      "metadata": {
        "id": "XLgJFcjgZ_nV"
      },
      "outputs": [],
      "source": [
        "import tensorflow as tf\n",
        "import tensorflow_datasets as tfds\n",
        "import matplotlib.pyplot as plt"
      ]
    },
    {
      "cell_type": "code",
      "source": [
        "(ds_train, ds_test), ds_info =tfds.load('mnist', split=['train', 'test'], shuffle_files=False,as_supervised=True,with_info=True,)\n"
      ],
      "metadata": {
        "colab": {
          "base_uri": "https://localhost:8080/",
          "height": 104,
          "referenced_widgets": [
            "db659e4359c443308a4392e61531524a",
            "604fe190e986492eb16b627dbd055e78",
            "6bb3dca037bf4224b445fd343229104d",
            "75dea32b0d5c4e43a556c1dc91ab442c",
            "c2a7158a12424d5fbed5a08f19d382b2",
            "90dc1092f04349e7a3310c70d1241ed1",
            "634ea96a2edb4183bde1d19b4d528de9",
            "ee45364fe40c4775a14056223710da2e",
            "207a159217ae4b4495a10265ac1b85aa",
            "727d36fe05994779b4d8de5aa7ff30e6",
            "a6828a6d3a48471cac71ee5e18a2829a"
          ]
        },
        "id": "tgjoRYFbaGJC",
        "outputId": "d003ec5c-2458-46bc-f57d-4f2ef86e5d56"
      },
      "execution_count": null,
      "outputs": [
        {
          "output_type": "stream",
          "name": "stdout",
          "text": [
            "Downloading and preparing dataset 11.06 MiB (download: 11.06 MiB, generated: 21.00 MiB, total: 32.06 MiB) to /root/tensorflow_datasets/mnist/3.0.1...\n"
          ]
        },
        {
          "output_type": "display_data",
          "data": {
            "text/plain": [
              "Dl Completed...:   0%|          | 0/5 [00:00<?, ? file/s]"
            ],
            "application/vnd.jupyter.widget-view+json": {
              "version_major": 2,
              "version_minor": 0,
              "model_id": "db659e4359c443308a4392e61531524a"
            }
          },
          "metadata": {}
        },
        {
          "output_type": "stream",
          "name": "stdout",
          "text": [
            "Dataset mnist downloaded and prepared to /root/tensorflow_datasets/mnist/3.0.1. Subsequent calls will reuse this data.\n"
          ]
        }
      ]
    },
    {
      "cell_type": "code",
      "source": [
        "def normalize_img(image, label):\n",
        "  return tf.cast(image, tf.float32) /255., label\n",
        "ds_train = ds_train.map(normalize_img)\n",
        "ds_train = ds_train.batch(128)\n",
        "ds_test = ds_test.map(normalize_img)\n",
        "ds_test = ds_test.batch(128)"
      ],
      "metadata": {
        "id": "-84923klaGT1"
      },
      "execution_count": null,
      "outputs": []
    },
    {
      "cell_type": "code",
      "source": [
        "model = tf.keras.models.Sequential([\n",
        "tf.keras.layers.Flatten(input_shape=(28,28)),\n",
        "tf.keras.layers.Dense(64,activation='relu'),tf.keras.layers.Dense(10,activation='softmax')])\n",
        "model.summary()"
      ],
      "metadata": {
        "colab": {
          "base_uri": "https://localhost:8080/"
        },
        "id": "9vXoXHGGab-k",
        "outputId": "a9b55dd6-cd57-4028-865b-38f70cf8ae15"
      },
      "execution_count": null,
      "outputs": [
        {
          "output_type": "stream",
          "name": "stdout",
          "text": [
            "Model: \"sequential\"\n",
            "_________________________________________________________________\n",
            " Layer (type)                Output Shape              Param #   \n",
            "=================================================================\n",
            " flatten (Flatten)           (None, 784)               0         \n",
            "                                                                 \n",
            " dense (Dense)               (None, 64)                50240     \n",
            "                                                                 \n",
            " dense_1 (Dense)             (None, 10)                650       \n",
            "                                                                 \n",
            "=================================================================\n",
            "Total params: 50890 (198.79 KB)\n",
            "Trainable params: 50890 (198.79 KB)\n",
            "Non-trainable params: 0 (0.00 Byte)\n",
            "_________________________________________________________________\n"
          ]
        }
      ]
    },
    {
      "cell_type": "code",
      "source": [
        "model.compile(optimizer=tf.keras.optimizers.SGD(0.01),loss=tf.keras.losses.SparseCategoricalCrossentropy(),metrics=[tf.keras.metrics.SparseCategoricalAccuracy()],)"
      ],
      "metadata": {
        "id": "MfeHSnw5aq09"
      },
      "execution_count": null,
      "outputs": []
    },
    {
      "cell_type": "code",
      "source": [
        "history = model.fit(ds_train,epochs=20,batch_size=128,validation_data=ds_test,)"
      ],
      "metadata": {
        "colab": {
          "base_uri": "https://localhost:8080/"
        },
        "id": "V8kzP05QayV6",
        "outputId": "e80f49a5-dfdc-46e3-d2a7-988c7ec98f09"
      },
      "execution_count": null,
      "outputs": [
        {
          "output_type": "stream",
          "name": "stdout",
          "text": [
            "Epoch 1/20\n",
            "469/469 [==============================] - 8s 16ms/step - loss: 1.2578 - sparse_categorical_accuracy: 0.6938 - val_loss: 0.6786 - val_sparse_categorical_accuracy: 0.8495\n",
            "Epoch 2/20\n",
            "469/469 [==============================] - 4s 8ms/step - loss: 0.5734 - sparse_categorical_accuracy: 0.8604 - val_loss: 0.4664 - val_sparse_categorical_accuracy: 0.8841\n",
            "Epoch 3/20\n",
            "469/469 [==============================] - 4s 8ms/step - loss: 0.4483 - sparse_categorical_accuracy: 0.8827 - val_loss: 0.3940 - val_sparse_categorical_accuracy: 0.8988\n",
            "Epoch 4/20\n",
            "469/469 [==============================] - 4s 9ms/step - loss: 0.3948 - sparse_categorical_accuracy: 0.8936 - val_loss: 0.3565 - val_sparse_categorical_accuracy: 0.9059\n",
            "Epoch 5/20\n",
            "469/469 [==============================] - 3s 7ms/step - loss: 0.3634 - sparse_categorical_accuracy: 0.9006 - val_loss: 0.3325 - val_sparse_categorical_accuracy: 0.9104\n",
            "Epoch 6/20\n",
            "469/469 [==============================] - 3s 7ms/step - loss: 0.3417 - sparse_categorical_accuracy: 0.9056 - val_loss: 0.3153 - val_sparse_categorical_accuracy: 0.9137\n",
            "Epoch 7/20\n",
            "469/469 [==============================] - 4s 9ms/step - loss: 0.3252 - sparse_categorical_accuracy: 0.9095 - val_loss: 0.3019 - val_sparse_categorical_accuracy: 0.9180\n",
            "Epoch 8/20\n",
            "469/469 [==============================] - 3s 7ms/step - loss: 0.3119 - sparse_categorical_accuracy: 0.9129 - val_loss: 0.2910 - val_sparse_categorical_accuracy: 0.9196\n",
            "Epoch 9/20\n",
            "469/469 [==============================] - 5s 10ms/step - loss: 0.3007 - sparse_categorical_accuracy: 0.9157 - val_loss: 0.2818 - val_sparse_categorical_accuracy: 0.9216\n",
            "Epoch 10/20\n",
            "469/469 [==============================] - 3s 7ms/step - loss: 0.2911 - sparse_categorical_accuracy: 0.9181 - val_loss: 0.2738 - val_sparse_categorical_accuracy: 0.9233\n",
            "Epoch 11/20\n",
            "469/469 [==============================] - 3s 7ms/step - loss: 0.2825 - sparse_categorical_accuracy: 0.9202 - val_loss: 0.2667 - val_sparse_categorical_accuracy: 0.9251\n",
            "Epoch 12/20\n",
            "469/469 [==============================] - 4s 8ms/step - loss: 0.2749 - sparse_categorical_accuracy: 0.9223 - val_loss: 0.2603 - val_sparse_categorical_accuracy: 0.9272\n",
            "Epoch 13/20\n",
            "469/469 [==============================] - 4s 8ms/step - loss: 0.2679 - sparse_categorical_accuracy: 0.9245 - val_loss: 0.2544 - val_sparse_categorical_accuracy: 0.9288\n",
            "Epoch 14/20\n",
            "469/469 [==============================] - 5s 10ms/step - loss: 0.2614 - sparse_categorical_accuracy: 0.9261 - val_loss: 0.2490 - val_sparse_categorical_accuracy: 0.9305\n",
            "Epoch 15/20\n",
            "469/469 [==============================] - 3s 7ms/step - loss: 0.2554 - sparse_categorical_accuracy: 0.9279 - val_loss: 0.2439 - val_sparse_categorical_accuracy: 0.9317\n",
            "Epoch 16/20\n",
            "469/469 [==============================] - 4s 8ms/step - loss: 0.2498 - sparse_categorical_accuracy: 0.9297 - val_loss: 0.2391 - val_sparse_categorical_accuracy: 0.9334\n",
            "Epoch 17/20\n",
            "469/469 [==============================] - 4s 8ms/step - loss: 0.2445 - sparse_categorical_accuracy: 0.9312 - val_loss: 0.2346 - val_sparse_categorical_accuracy: 0.9340\n",
            "Epoch 18/20\n",
            "469/469 [==============================] - 4s 9ms/step - loss: 0.2396 - sparse_categorical_accuracy: 0.9324 - val_loss: 0.2303 - val_sparse_categorical_accuracy: 0.9350\n",
            "Epoch 19/20\n",
            "469/469 [==============================] - 5s 10ms/step - loss: 0.2349 - sparse_categorical_accuracy: 0.9338 - val_loss: 0.2263 - val_sparse_categorical_accuracy: 0.9358\n",
            "Epoch 20/20\n",
            "469/469 [==============================] - 3s 7ms/step - loss: 0.2304 - sparse_categorical_accuracy: 0.9350 - val_loss: 0.2225 - val_sparse_categorical_accuracy: 0.9363\n"
          ]
        }
      ]
    },
    {
      "cell_type": "code",
      "source": [
        "plt.plot(history.history['loss'])\n",
        "plt.plot(history.history['val_loss'])\n",
        "plt.title('loss')\n",
        "plt.ylabel('loss')\n",
        "plt.xlabel('epoch')\n",
        "plt.legend(['loss','test_loss'], loc='upper left')\n",
        "plt.show()\n",
        "# Evaluate the model\n",
        "scores = model.evaluate(ds_test)\n",
        "print(\"Test accuracy:\",scores[1])"
      ],
      "metadata": {
        "colab": {
          "base_uri": "https://localhost:8080/",
          "height": 507
        },
        "id": "3QuYb1DtbVCk",
        "outputId": "b6e8ee45-966a-41ec-96f3-f4886126b64f"
      },
      "execution_count": null,
      "outputs": [
        {
          "output_type": "display_data",
          "data": {
            "text/plain": [
              "<Figure size 640x480 with 1 Axes>"
            ],
            "image/png": "[encoded data removed]"
          },
          "metadata": {}
        },
        {
          "output_type": "stream",
          "name": "stdout",
          "text": [
            "79/79 [==============================] - 1s 9ms/step - loss: 0.2225 - sparse_categorical_accuracy: 0.9363\n",
            "Test accuracy: 0.9362999796867371\n"
          ]
        }
      ]
    },
    {
      "cell_type": "markdown",
      "source": [
        "Pratical Questions:\n",
        "\n",
        "    1. Consider the train and validation loss: How does it change if you vary the number of epochs? The learning rate?"
      ],
      "metadata": {
        "id": "O3k1OsQ2d7q5"
      }
    },
    {
      "cell_type": "code",
      "source": [
        "model = tf.keras.models.Sequential([tf.keras.layers.Flatten(input_shape=(28,28)),tf.keras.layers.Dense(64,activation='relu'),tf.keras.layers.Dense(10,activation='softmax')])\n",
        "model.compile(optimizer=tf.keras.optimizers.SGD(0.01),loss=tf.keras.losses.SparseCategoricalCrossentropy(),metrics=[tf.keras.metrics.SparseCategoricalAccuracy()],)\n",
        "history = model.fit(ds_train,epochs=10,batch_size=128,validation_data=ds_test,)"
      ],
      "metadata": {
        "colab": {
          "base_uri": "https://localhost:8080/"
        },
        "id": "BIu824bmd-kY",
        "outputId": "223b0388-9ece-40de-9805-4e2e7d400b0c"
      },
      "execution_count": 19,
      "outputs": [
        {
          "output_type": "stream",
          "name": "stdout",
          "text": [
            "Epoch 1/10\n",
            "469/469 [==============================] - 5s 10ms/step - loss: 1.1921 - sparse_categorical_accuracy: 0.7086 - val_loss: 0.6626 - val_sparse_categorical_accuracy: 0.8479\n",
            "Epoch 2/10\n",
            "469/469 [==============================] - 4s 8ms/step - loss: 0.5668 - sparse_categorical_accuracy: 0.8593 - val_loss: 0.4652 - val_sparse_categorical_accuracy: 0.8814\n",
            "Epoch 3/10\n",
            "469/469 [==============================] - 7s 14ms/step - loss: 0.4481 - sparse_categorical_accuracy: 0.8807 - val_loss: 0.3953 - val_sparse_categorical_accuracy: 0.8962\n",
            "Epoch 4/10\n",
            "469/469 [==============================] - 6s 12ms/step - loss: 0.3957 - sparse_categorical_accuracy: 0.8926 - val_loss: 0.3585 - val_sparse_categorical_accuracy: 0.9030\n",
            "Epoch 5/10\n",
            "469/469 [==============================] - 4s 9ms/step - loss: 0.3648 - sparse_categorical_accuracy: 0.8997 - val_loss: 0.3349 - val_sparse_categorical_accuracy: 0.9088\n",
            "Epoch 6/10\n",
            "469/469 [==============================] - 5s 10ms/step - loss: 0.3433 - sparse_categorical_accuracy: 0.9052 - val_loss: 0.3179 - val_sparse_categorical_accuracy: 0.9118\n",
            "Epoch 7/10\n",
            "469/469 [==============================] - 4s 9ms/step - loss: 0.3270 - sparse_categorical_accuracy: 0.9097 - val_loss: 0.3046 - val_sparse_categorical_accuracy: 0.9155\n",
            "Epoch 8/10\n",
            "469/469 [==============================] - 3s 7ms/step - loss: 0.3138 - sparse_categorical_accuracy: 0.9132 - val_loss: 0.2936 - val_sparse_categorical_accuracy: 0.9183\n",
            "Epoch 9/10\n",
            "469/469 [==============================] - 3s 7ms/step - loss: 0.3027 - sparse_categorical_accuracy: 0.9161 - val_loss: 0.2842 - val_sparse_categorical_accuracy: 0.9206\n",
            "Epoch 10/10\n",
            "469/469 [==============================] - 3s 7ms/step - loss: 0.2930 - sparse_categorical_accuracy: 0.9186 - val_loss: 0.2760 - val_sparse_categorical_accuracy: 0.9226\n"
          ]
        }
      ]
    },
    {
      "cell_type": "code",
      "source": [
        "plt.plot(history.history['loss'])\n",
        "plt.plot(history.history['val_loss'])\n",
        "plt.title('loss')\n",
        "plt.ylabel('loss')\n",
        "plt.xlabel('epoch')\n",
        "plt.legend(['loss','test_loss'], loc='upper left')\n",
        "plt.show()\n",
        "# Evaluate the model\n",
        "scores = model.evaluate(ds_test)\n",
        "print(\"Test accuracy:\",scores[1])"
      ],
      "metadata": {
        "colab": {
          "base_uri": "https://localhost:8080/",
          "height": 507
        },
        "id": "NCHmWiIveQBn",
        "outputId": "3976eb15-f11d-49bf-d954-406fe4eeb921"
      },
      "execution_count": 20,
      "outputs": [
        {
          "output_type": "display_data",
          "data": {
            "text/plain": [
              "<Figure size 640x480 with 1 Axes>"
            ],
            "image/png": "[encoded data removed]"
          },
          "metadata": {}
        },
        {
          "output_type": "stream",
          "name": "stdout",
          "text": [
            "79/79 [==============================] - 0s 5ms/step - loss: 0.2760 - sparse_categorical_accuracy: 0.9226\n",
            "Test accuracy: 0.9225999712944031\n"
          ]
        }
      ]
    },
    {
      "cell_type": "markdown",
      "source": [
        "Com a diminuição do numero de epochs para metade, a accuracy diminuiu mas as perdas foram as mesmas. Estas camadas são as mesmas 10 que foram executadas no classificador anterior. Por isso o gráfico tem o mesmo formato"
      ],
      "metadata": {
        "id": "BNDJH1V4fc7X"
      }
    },
    {
      "cell_type": "code",
      "source": [
        "model = tf.keras.models.Sequential([tf.keras.layers.Flatten(input_shape=(28,28)),tf.keras.layers.Dense(64,activation='relu'),tf.keras.layers.Dense(10,activation='softmax')])\n",
        "model.compile(optimizer=tf.keras.optimizers.SGD(0.01),loss=tf.keras.losses.SparseCategoricalCrossentropy(),metrics=[tf.keras.metrics.SparseCategoricalAccuracy()],)\n",
        "history = model.fit(ds_train,epochs=30,batch_size=128,validation_data=ds_test)"
      ],
      "metadata": {
        "colab": {
          "base_uri": "https://localhost:8080/"
        },
        "id": "4OkMibJsg7ql",
        "outputId": "3d8fbda3-7aed-4bfb-a3d5-be5be6a0d8ef"
      },
      "execution_count": 21,
      "outputs": [
        {
          "output_type": "stream",
          "name": "stdout",
          "text": [
            "Epoch 1/30\n",
            "469/469 [==============================] - 5s 10ms/step - loss: 1.3430 - sparse_categorical_accuracy: 0.6470 - val_loss: 0.7275 - val_sparse_categorical_accuracy: 0.8402\n",
            "Epoch 2/30\n",
            "469/469 [==============================] - 3s 7ms/step - loss: 0.6035 - sparse_categorical_accuracy: 0.8546 - val_loss: 0.4839 - val_sparse_categorical_accuracy: 0.8839\n",
            "Epoch 3/30\n",
            "469/469 [==============================] - 5s 11ms/step - loss: 0.4619 - sparse_categorical_accuracy: 0.8796 - val_loss: 0.4051 - val_sparse_categorical_accuracy: 0.8948\n",
            "Epoch 4/30\n",
            "469/469 [==============================] - 4s 9ms/step - loss: 0.4037 - sparse_categorical_accuracy: 0.8907 - val_loss: 0.3654 - val_sparse_categorical_accuracy: 0.9024\n",
            "Epoch 5/30\n",
            "469/469 [==============================] - 3s 7ms/step - loss: 0.3707 - sparse_categorical_accuracy: 0.8979 - val_loss: 0.3408 - val_sparse_categorical_accuracy: 0.9073\n",
            "Epoch 6/30\n",
            "469/469 [==============================] - 5s 10ms/step - loss: 0.3484 - sparse_categorical_accuracy: 0.9029 - val_loss: 0.3235 - val_sparse_categorical_accuracy: 0.9114\n",
            "Epoch 7/30\n",
            "469/469 [==============================] - 4s 9ms/step - loss: 0.3319 - sparse_categorical_accuracy: 0.9074 - val_loss: 0.3102 - val_sparse_categorical_accuracy: 0.9147\n",
            "Epoch 8/30\n",
            "469/469 [==============================] - 4s 8ms/step - loss: 0.3187 - sparse_categorical_accuracy: 0.9111 - val_loss: 0.2995 - val_sparse_categorical_accuracy: 0.9171\n",
            "Epoch 9/30\n",
            "469/469 [==============================] - 5s 12ms/step - loss: 0.3076 - sparse_categorical_accuracy: 0.9141 - val_loss: 0.2903 - val_sparse_categorical_accuracy: 0.9200\n",
            "Epoch 10/30\n",
            "469/469 [==============================] - 5s 10ms/step - loss: 0.2980 - sparse_categorical_accuracy: 0.9166 - val_loss: 0.2823 - val_sparse_categorical_accuracy: 0.9218\n",
            "Epoch 11/30\n",
            "469/469 [==============================] - 6s 12ms/step - loss: 0.2895 - sparse_categorical_accuracy: 0.9191 - val_loss: 0.2752 - val_sparse_categorical_accuracy: 0.9237\n",
            "Epoch 12/30\n",
            "469/469 [==============================] - 3s 7ms/step - loss: 0.2818 - sparse_categorical_accuracy: 0.9215 - val_loss: 0.2688 - val_sparse_categorical_accuracy: 0.9249\n",
            "Epoch 13/30\n",
            "469/469 [==============================] - 4s 8ms/step - loss: 0.2749 - sparse_categorical_accuracy: 0.9235 - val_loss: 0.2630 - val_sparse_categorical_accuracy: 0.9259\n",
            "Epoch 14/30\n",
            "469/469 [==============================] - 4s 8ms/step - loss: 0.2685 - sparse_categorical_accuracy: 0.9250 - val_loss: 0.2575 - val_sparse_categorical_accuracy: 0.9274\n",
            "Epoch 15/30\n",
            "469/469 [==============================] - 4s 8ms/step - loss: 0.2626 - sparse_categorical_accuracy: 0.9267 - val_loss: 0.2525 - val_sparse_categorical_accuracy: 0.9283\n",
            "Epoch 16/30\n",
            "469/469 [==============================] - 5s 10ms/step - loss: 0.2571 - sparse_categorical_accuracy: 0.9283 - val_loss: 0.2478 - val_sparse_categorical_accuracy: 0.9302\n",
            "Epoch 17/30\n",
            "469/469 [==============================] - 4s 8ms/step - loss: 0.2519 - sparse_categorical_accuracy: 0.9295 - val_loss: 0.2433 - val_sparse_categorical_accuracy: 0.9314\n",
            "Epoch 18/30\n",
            "469/469 [==============================] - 4s 8ms/step - loss: 0.2470 - sparse_categorical_accuracy: 0.9309 - val_loss: 0.2391 - val_sparse_categorical_accuracy: 0.9324\n",
            "Epoch 19/30\n",
            "469/469 [==============================] - 4s 9ms/step - loss: 0.2424 - sparse_categorical_accuracy: 0.9319 - val_loss: 0.2351 - val_sparse_categorical_accuracy: 0.9331\n",
            "Epoch 20/30\n",
            "469/469 [==============================] - 4s 8ms/step - loss: 0.2381 - sparse_categorical_accuracy: 0.9332 - val_loss: 0.2313 - val_sparse_categorical_accuracy: 0.9343\n",
            "Epoch 21/30\n",
            "469/469 [==============================] - 5s 10ms/step - loss: 0.2340 - sparse_categorical_accuracy: 0.9342 - val_loss: 0.2277 - val_sparse_categorical_accuracy: 0.9359\n",
            "Epoch 22/30\n",
            "469/469 [==============================] - 4s 8ms/step - loss: 0.2300 - sparse_categorical_accuracy: 0.9353 - val_loss: 0.2243 - val_sparse_categorical_accuracy: 0.9363\n",
            "Epoch 23/30\n",
            "469/469 [==============================] - 4s 8ms/step - loss: 0.2263 - sparse_categorical_accuracy: 0.9367 - val_loss: 0.2210 - val_sparse_categorical_accuracy: 0.9371\n",
            "Epoch 24/30\n",
            "469/469 [==============================] - 5s 10ms/step - loss: 0.2226 - sparse_categorical_accuracy: 0.9375 - val_loss: 0.2178 - val_sparse_categorical_accuracy: 0.9383\n",
            "Epoch 25/30\n",
            "469/469 [==============================] - 4s 8ms/step - loss: 0.2191 - sparse_categorical_accuracy: 0.9384 - val_loss: 0.2147 - val_sparse_categorical_accuracy: 0.9389\n",
            "Epoch 26/30\n",
            "469/469 [==============================] - 4s 8ms/step - loss: 0.2157 - sparse_categorical_accuracy: 0.9393 - val_loss: 0.2118 - val_sparse_categorical_accuracy: 0.9395\n",
            "Epoch 27/30\n",
            "469/469 [==============================] - 5s 10ms/step - loss: 0.2125 - sparse_categorical_accuracy: 0.9402 - val_loss: 0.2089 - val_sparse_categorical_accuracy: 0.9400\n",
            "Epoch 28/30\n",
            "469/469 [==============================] - 3s 7ms/step - loss: 0.2093 - sparse_categorical_accuracy: 0.9412 - val_loss: 0.2062 - val_sparse_categorical_accuracy: 0.9403\n",
            "Epoch 29/30\n",
            "469/469 [==============================] - 5s 10ms/step - loss: 0.2062 - sparse_categorical_accuracy: 0.9422 - val_loss: 0.2035 - val_sparse_categorical_accuracy: 0.9407\n",
            "Epoch 30/30\n",
            "469/469 [==============================] - 4s 8ms/step - loss: 0.2032 - sparse_categorical_accuracy: 0.9431 - val_loss: 0.2009 - val_sparse_categorical_accuracy: 0.9417\n"
          ]
        }
      ]
    },
    {
      "cell_type": "code",
      "source": [
        "plt.plot(history.history['loss'])\n",
        "plt.plot(history.history['val_loss'])\n",
        "plt.title('loss')\n",
        "plt.ylabel('loss')\n",
        "plt.xlabel('epoch')\n",
        "plt.legend(['loss','test_loss'], loc='upper left')\n",
        "plt.show()\n",
        "# Evaluate the model\n",
        "scores = model.evaluate(ds_test)\n",
        "print(\"Test accuracy:\",scores[1])"
      ],
      "metadata": {
        "colab": {
          "base_uri": "https://localhost:8080/",
          "height": 507
        },
        "id": "1LPkC-gMiFEa",
        "outputId": "8ba51903-61f5-41b0-833f-b698acee0d77"
      },
      "execution_count": 22,
      "outputs": [
        {
          "output_type": "display_data",
          "data": {
            "text/plain": [
              "<Figure size 640x480 with 1 Axes>"
            ],
            "image/png": "[encoded data removed]"
          },
          "metadata": {}
        },
        {
          "output_type": "stream",
          "name": "stdout",
          "text": [
            "79/79 [==============================] - 1s 6ms/step - loss: 0.2009 - sparse_categorical_accuracy: 0.9417\n",
            "Test accuracy: 0.9416999816894531\n"
          ]
        }
      ]
    },
    {
      "cell_type": "markdown",
      "source": [
        "A accuracy aumentou, devido ao maior numero de camadas, o inicio do grafico das perdas é semelhante visto que as primeiras 20 camadas foram iguais."
      ],
      "metadata": {
        "id": "KAD2bZHNi_ZP"
      }
    },
    {
      "cell_type": "code",
      "source": [
        "model = tf.keras.models.Sequential([tf.keras.layers.Flatten(input_shape=(28,28)),tf.keras.layers.Dense(64,activation='relu'),tf.keras.layers.Dense(10,activation='softmax')])\n",
        "model.compile(optimizer=tf.keras.optimizers.SGD(0.02),loss=tf.keras.losses.SparseCategoricalCrossentropy(),metrics=[tf.keras.metrics.SparseCategoricalAccuracy()],)\n",
        "history = model.fit(ds_train,epochs=10,batch_size=128,validation_data=ds_test,)"
      ],
      "metadata": {
        "colab": {
          "base_uri": "https://localhost:8080/"
        },
        "id": "ciLtN65PhAMX",
        "outputId": "f1a1a54e-a28f-4f3f-a24b-745303427354"
      },
      "execution_count": 27,
      "outputs": [
        {
          "output_type": "stream",
          "name": "stdout",
          "text": [
            "Epoch 1/10\n",
            "469/469 [==============================] - 5s 10ms/step - loss: 0.8902 - sparse_categorical_accuracy: 0.7848 - val_loss: 0.4608 - val_sparse_categorical_accuracy: 0.8832\n",
            "Epoch 2/10\n",
            "469/469 [==============================] - 4s 8ms/step - loss: 0.4191 - sparse_categorical_accuracy: 0.8885 - val_loss: 0.3563 - val_sparse_categorical_accuracy: 0.9038\n",
            "Epoch 3/10\n",
            "469/469 [==============================] - 4s 8ms/step - loss: 0.3526 - sparse_categorical_accuracy: 0.9023 - val_loss: 0.3166 - val_sparse_categorical_accuracy: 0.9147\n",
            "Epoch 4/10\n",
            "469/469 [==============================] - 6s 14ms/step - loss: 0.3198 - sparse_categorical_accuracy: 0.9104 - val_loss: 0.2932 - val_sparse_categorical_accuracy: 0.9194\n",
            "Epoch 5/10\n",
            "469/469 [==============================] - 3s 7ms/step - loss: 0.2979 - sparse_categorical_accuracy: 0.9161 - val_loss: 0.2764 - val_sparse_categorical_accuracy: 0.9227\n",
            "Epoch 6/10\n",
            "469/469 [==============================] - 5s 10ms/step - loss: 0.2811 - sparse_categorical_accuracy: 0.9207 - val_loss: 0.2633 - val_sparse_categorical_accuracy: 0.9263\n",
            "Epoch 7/10\n",
            "469/469 [==============================] - 4s 8ms/step - loss: 0.2676 - sparse_categorical_accuracy: 0.9243 - val_loss: 0.2524 - val_sparse_categorical_accuracy: 0.9289\n",
            "Epoch 8/10\n",
            "469/469 [==============================] - 6s 12ms/step - loss: 0.2561 - sparse_categorical_accuracy: 0.9280 - val_loss: 0.2430 - val_sparse_categorical_accuracy: 0.9311\n",
            "Epoch 9/10\n",
            "469/469 [==============================] - 4s 8ms/step - loss: 0.2460 - sparse_categorical_accuracy: 0.9310 - val_loss: 0.2346 - val_sparse_categorical_accuracy: 0.9339\n",
            "Epoch 10/10\n",
            "469/469 [==============================] - 3s 7ms/step - loss: 0.2369 - sparse_categorical_accuracy: 0.9333 - val_loss: 0.2270 - val_sparse_categorical_accuracy: 0.9362\n"
          ]
        }
      ]
    },
    {
      "cell_type": "code",
      "source": [
        "plt.plot(history.history['loss'])\n",
        "plt.plot(history.history['val_loss'])\n",
        "plt.title('loss')\n",
        "plt.ylabel('loss')\n",
        "plt.xlabel('epoch')\n",
        "plt.legend(['loss','test_loss'], loc='upper left')\n",
        "plt.show()\n",
        "# Evaluate the model\n",
        "scores = model.evaluate(ds_test)\n",
        "print(\"Test accuracy:\",scores[1])"
      ],
      "metadata": {
        "colab": {
          "base_uri": "https://localhost:8080/",
          "height": 507
        },
        "id": "8lgoUAcokJ_A",
        "outputId": "0eec0e47-1834-4e6e-b765-f87afae8b04c"
      },
      "execution_count": 28,
      "outputs": [
        {
          "output_type": "display_data",
          "data": {
            "text/plain": [
              "<Figure size 640x480 with 1 Axes>"
            ],
            "image/png": "[encoded data removed]"
          },
          "metadata": {}
        },
        {
          "output_type": "stream",
          "name": "stdout",
          "text": [
            "79/79 [==============================] - 1s 9ms/step - loss: 0.2270 - sparse_categorical_accuracy: 0.9362\n",
            "Test accuracy: 0.9362000226974487\n"
          ]
        }
      ]
    },
    {
      "cell_type": "markdown",
      "source": [],
      "metadata": {
        "id": "ejAD-MPzkN64"
      }
    },
    {
      "cell_type": "code",
      "source": [
        "model = tf.keras.models.Sequential([tf.keras.layers.Flatten(input_shape=(28,28)),tf.keras.layers.Dense(64,activation='relu'),tf.keras.layers.Dense(10,activation='softmax')])\n",
        "model.compile(optimizer=tf.keras.optimizers.SGD(0.005),loss=tf.keras.losses.SparseCategoricalCrossentropy(),metrics=[tf.keras.metrics.SparseCategoricalAccuracy()],)\n",
        "history = model.fit(ds_train,epochs=10,batch_size=128,validation_data=ds_test,)"
      ],
      "metadata": {
        "colab": {
          "base_uri": "https://localhost:8080/"
        },
        "id": "sNIrVQpRkODK",
        "outputId": "93827746-1fd0-40bf-e3b2-594058ec2634"
      },
      "execution_count": 29,
      "outputs": [
        {
          "output_type": "stream",
          "name": "stdout",
          "text": [
            "Epoch 1/10\n",
            "469/469 [==============================] - 4s 8ms/step - loss: 1.5643 - sparse_categorical_accuracy: 0.6106 - val_loss: 1.0028 - val_sparse_categorical_accuracy: 0.7974\n",
            "Epoch 2/10\n",
            "469/469 [==============================] - 4s 8ms/step - loss: 0.8152 - sparse_categorical_accuracy: 0.8210 - val_loss: 0.6502 - val_sparse_categorical_accuracy: 0.8534\n",
            "Epoch 3/10\n",
            "469/469 [==============================] - 5s 10ms/step - loss: 0.6013 - sparse_categorical_accuracy: 0.8578 - val_loss: 0.5227 - val_sparse_categorical_accuracy: 0.8745\n",
            "Epoch 4/10\n",
            "469/469 [==============================] - 4s 8ms/step - loss: 0.5090 - sparse_categorical_accuracy: 0.8734 - val_loss: 0.4579 - val_sparse_categorical_accuracy: 0.8866\n",
            "Epoch 5/10\n",
            "469/469 [==============================] - 4s 8ms/step - loss: 0.4572 - sparse_categorical_accuracy: 0.8825 - val_loss: 0.4186 - val_sparse_categorical_accuracy: 0.8929\n",
            "Epoch 6/10\n",
            "469/469 [==============================] - 5s 10ms/step - loss: 0.4236 - sparse_categorical_accuracy: 0.8891 - val_loss: 0.3921 - val_sparse_categorical_accuracy: 0.8972\n",
            "Epoch 7/10\n",
            "469/469 [==============================] - 4s 8ms/step - loss: 0.3998 - sparse_categorical_accuracy: 0.8938 - val_loss: 0.3727 - val_sparse_categorical_accuracy: 0.9006\n",
            "Epoch 8/10\n",
            "469/469 [==============================] - 3s 7ms/step - loss: 0.3817 - sparse_categorical_accuracy: 0.8976 - val_loss: 0.3578 - val_sparse_categorical_accuracy: 0.9024\n",
            "Epoch 9/10\n",
            "469/469 [==============================] - 5s 10ms/step - loss: 0.3674 - sparse_categorical_accuracy: 0.9005 - val_loss: 0.3458 - val_sparse_categorical_accuracy: 0.9043\n",
            "Epoch 10/10\n",
            "469/469 [==============================] - 3s 7ms/step - loss: 0.3556 - sparse_categorical_accuracy: 0.9025 - val_loss: 0.3358 - val_sparse_categorical_accuracy: 0.9064\n"
          ]
        }
      ]
    },
    {
      "cell_type": "code",
      "source": [
        "plt.plot(history.history['loss'])\n",
        "plt.plot(history.history['val_loss'])\n",
        "plt.title('loss')\n",
        "plt.ylabel('loss')\n",
        "plt.xlabel('epoch')\n",
        "plt.legend(['loss','test_loss'], loc='upper left')\n",
        "plt.show()\n",
        "# Evaluate the model\n",
        "scores = model.evaluate(ds_test)\n",
        "print(\"Test accuracy:\",scores[1])"
      ],
      "metadata": {
        "colab": {
          "base_uri": "https://localhost:8080/",
          "height": 507
        },
        "id": "36CAAAT9kOoy",
        "outputId": "8923e493-0ce4-406d-baae-8dcb2d5937e2"
      },
      "execution_count": 30,
      "outputs": [
        {
          "output_type": "display_data",
          "data": {
            "text/plain": [
              "<Figure size 640x480 with 1 Axes>"
            ],
            "image/png": "[encoded data removed]"
          },
          "metadata": {}
        },
        {
          "output_type": "stream",
          "name": "stdout",
          "text": [
            "79/79 [==============================] - 0s 6ms/step - loss: 0.3358 - sparse_categorical_accuracy: 0.9064\n",
            "Test accuracy: 0.9064000248908997\n"
          ]
        }
      ]
    },
    {
      "cell_type": "markdown",
      "source": [],
      "metadata": {
        "id": "GU6d9s3ZkOzk"
      }
    }
  ]
}